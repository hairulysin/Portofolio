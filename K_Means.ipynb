{
  "nbformat": 4,
  "nbformat_minor": 0,
  "metadata": {
    "colab": {
      "provenance": []
    },
    "kernelspec": {
      "name": "python3",
      "display_name": "Python 3"
    },
    "language_info": {
      "name": "python"
    }
  },
  "cells": [
    {
      "cell_type": "markdown",
      "source": [
        "**Tugas Kelompok | Implementasi  Clustering**\n",
        "\n",
        "---\n",
        "Disusun Oleh :\n"
        "1. Muhammad Ryhan\n",
        "2. Hairul Yasin\n",
        "3. Syarif Mohammad Syakur\n",
        "4. Wahid Radikal Akhlak\n",
        "\n",
        "\n",
        "\n",
        "\n",
        "\n",
        "\n",
        "\n",
        "\n"
      ],
      "metadata": {
        "id": "-Np7OiUz-S6p"
      }
    },
    {
      "cell_type": "code",
      "source": [
        "import pandas as pd\n",
        "import numpy as np\n",
        "import seaborn as sns\n",
        "import matplotlib.pyplot as plt"
      ],
      "metadata": {
        "id": "0u3tS4hR6yPF"
      },
      "execution_count": 112,
      "outputs": []
    },
    {
      "cell_type": "code",
      "source": [
        "# load dataset\n",
        "data = pd.read_csv(\"/content/income.csv\", index_col=\"Name\")"
      ],
      "metadata": {
        "id": "LxWOFvss60C4"
      },
      "execution_count": 113,
      "outputs": []
    },
    {
      "cell_type": "markdown",
      "source": [
        "Dataset yang dipakai berisi informasi tentang umur dan pendapatan seseorang. Dataset ini digunakan untuk melakukan clustering dengan tujuan untuk membagi orang-orang dalam kelompok-kelompok berdasarkan umur dan pendapatan mereka."
      ],
      "metadata": {
        "id": "-O3KddKTBBsj"
      }
    },
    {
      "cell_type": "code",
      "source": [
        "# check dataset shape\n",
        "print(data.shape)"
      ],
      "metadata": {
        "colab": {
          "base_uri": "https://localhost:8080/"
        },
        "id": "v4Eez6d463cq",
        "outputId": "0a237f10-d452-4a5f-acf7-7972695e8082"
      },
      "execution_count": 114,
      "outputs": [
        {
          "output_type": "stream",
          "name": "stdout",
          "text": [
            "(22, 2)\n"
          ]
        }
      ]
    },
    {
      "cell_type": "code",
      "source": [
        "# fit KMeans model\n",
        "kmeans = KMeans(n_clusters=3)\n",
        "kmeans.fit(data[['Age','Income($)']])"
      ],
      "metadata": {
        "colab": {
          "base_uri": "https://localhost:8080/",
          "height": 129
        },
        "id": "aCGGbeb86-r2",
        "outputId": "5a93ef8b-101e-4363-e9a1-98bb103af44c"
      },
      "execution_count": 115,
      "outputs": [
        {
          "output_type": "stream",
          "name": "stderr",
          "text": [
            "/usr/local/lib/python3.9/dist-packages/sklearn/cluster/_kmeans.py:870: FutureWarning: The default value of `n_init` will change from 10 to 'auto' in 1.4. Set the value of `n_init` explicitly to suppress the warning\n",
            "  warnings.warn(\n"
          ]
        },
        {
          "output_type": "execute_result",
          "data": {
            "text/plain": [
              "KMeans(n_clusters=3)"
            ],
            "text/html": [
              "<style>#sk-container-id-8 {color: black;background-color: white;}#sk-container-id-8 pre{padding: 0;}#sk-container-id-8 div.sk-toggleable {background-color: white;}#sk-container-id-8 label.sk-toggleable__label {cursor: pointer;display: block;width: 100%;margin-bottom: 0;padding: 0.3em;box-sizing: border-box;text-align: center;}#sk-container-id-8 label.sk-toggleable__label-arrow:before {content: \"▸\";float: left;margin-right: 0.25em;color: #696969;}#sk-container-id-8 label.sk-toggleable__label-arrow:hover:before {color: black;}#sk-container-id-8 div.sk-estimator:hover label.sk-toggleable__label-arrow:before {color: black;}#sk-container-id-8 div.sk-toggleable__content {max-height: 0;max-width: 0;overflow: hidden;text-align: left;background-color: #f0f8ff;}#sk-container-id-8 div.sk-toggleable__content pre {margin: 0.2em;color: black;border-radius: 0.25em;background-color: #f0f8ff;}#sk-container-id-8 input.sk-toggleable__control:checked~div.sk-toggleable__content {max-height: 200px;max-width: 100%;overflow: auto;}#sk-container-id-8 input.sk-toggleable__control:checked~label.sk-toggleable__label-arrow:before {content: \"▾\";}#sk-container-id-8 div.sk-estimator input.sk-toggleable__control:checked~label.sk-toggleable__label {background-color: #d4ebff;}#sk-container-id-8 div.sk-label input.sk-toggleable__control:checked~label.sk-toggleable__label {background-color: #d4ebff;}#sk-container-id-8 input.sk-hidden--visually {border: 0;clip: rect(1px 1px 1px 1px);clip: rect(1px, 1px, 1px, 1px);height: 1px;margin: -1px;overflow: hidden;padding: 0;position: absolute;width: 1px;}#sk-container-id-8 div.sk-estimator {font-family: monospace;background-color: #f0f8ff;border: 1px dotted black;border-radius: 0.25em;box-sizing: border-box;margin-bottom: 0.5em;}#sk-container-id-8 div.sk-estimator:hover {background-color: #d4ebff;}#sk-container-id-8 div.sk-parallel-item::after {content: \"\";width: 100%;border-bottom: 1px solid gray;flex-grow: 1;}#sk-container-id-8 div.sk-label:hover label.sk-toggleable__label {background-color: #d4ebff;}#sk-container-id-8 div.sk-serial::before {content: \"\";position: absolute;border-left: 1px solid gray;box-sizing: border-box;top: 0;bottom: 0;left: 50%;z-index: 0;}#sk-container-id-8 div.sk-serial {display: flex;flex-direction: column;align-items: center;background-color: white;padding-right: 0.2em;padding-left: 0.2em;position: relative;}#sk-container-id-8 div.sk-item {position: relative;z-index: 1;}#sk-container-id-8 div.sk-parallel {display: flex;align-items: stretch;justify-content: center;background-color: white;position: relative;}#sk-container-id-8 div.sk-item::before, #sk-container-id-8 div.sk-parallel-item::before {content: \"\";position: absolute;border-left: 1px solid gray;box-sizing: border-box;top: 0;bottom: 0;left: 50%;z-index: -1;}#sk-container-id-8 div.sk-parallel-item {display: flex;flex-direction: column;z-index: 1;position: relative;background-color: white;}#sk-container-id-8 div.sk-parallel-item:first-child::after {align-self: flex-end;width: 50%;}#sk-container-id-8 div.sk-parallel-item:last-child::after {align-self: flex-start;width: 50%;}#sk-container-id-8 div.sk-parallel-item:only-child::after {width: 0;}#sk-container-id-8 div.sk-dashed-wrapped {border: 1px dashed gray;margin: 0 0.4em 0.5em 0.4em;box-sizing: border-box;padding-bottom: 0.4em;background-color: white;}#sk-container-id-8 div.sk-label label {font-family: monospace;font-weight: bold;display: inline-block;line-height: 1.2em;}#sk-container-id-8 div.sk-label-container {text-align: center;}#sk-container-id-8 div.sk-container {/* jupyter's `normalize.less` sets `[hidden] { display: none; }` but bootstrap.min.css set `[hidden] { display: none !important; }` so we also need the `!important` here to be able to override the default hidden behavior on the sphinx rendered scikit-learn.org. See: https://github.com/scikit-learn/scikit-learn/issues/21755 */display: inline-block !important;position: relative;}#sk-container-id-8 div.sk-text-repr-fallback {display: none;}</style><div id=\"sk-container-id-8\" class=\"sk-top-container\"><div class=\"sk-text-repr-fallback\"><pre>KMeans(n_clusters=3)</pre><b>In a Jupyter environment, please rerun this cell to show the HTML representation or trust the notebook. <br />On GitHub, the HTML representation is unable to render, please try loading this page with nbviewer.org.</b></div><div class=\"sk-container\" hidden><div class=\"sk-item\"><div class=\"sk-estimator sk-toggleable\"><input class=\"sk-toggleable__control sk-hidden--visually\" id=\"sk-estimator-id-8\" type=\"checkbox\" checked><label for=\"sk-estimator-id-8\" class=\"sk-toggleable__label sk-toggleable__label-arrow\">KMeans</label><div class=\"sk-toggleable__content\"><pre>KMeans(n_clusters=3)</pre></div></div></div></div></div>"
            ]
          },
          "metadata": {},
          "execution_count": 115
        }
      ]
    },
    {
      "cell_type": "markdown",
      "source": [
        "kode diatas digunakan untuk menginisialisasi dan melatih model KMeans dengan jumlah cluster sebanyak 3, dan menggunakan data pada kolom 'Age' dan 'Income($)' sebagai variabel yang digunakan dalam proses clustering."
      ],
      "metadata": {
        "id": "kZU3vjr-Cqbx"
      }
    },
    {
      "cell_type": "code",
      "source": [
        "# get cluster centers\n",
        "centers = kmeans.cluster_centers_"
      ],
      "metadata": {
        "id": "9sZmbWc76_3G"
      },
      "execution_count": 116,
      "outputs": []
    },
    {
      "cell_type": "code",
      "source": [
        "# assign cluster labels to data points\n",
        "data['cluster'] = kmeans.labels_"
      ],
      "metadata": {
        "id": "-fn8dwPa7BlS"
      },
      "execution_count": 117,
      "outputs": []
    },
    {
      "cell_type": "code",
      "source": [
        "# count number of data points in each cluster\n",
        "unique, counts = np.unique(kmeans.labels_, return_counts=True)\n",
        "dict_data = dict(zip(unique, counts))\n",
        "print(dict_data)\n",
        "# kode diatas untuk mengjitung jumlah data point di setiap cluster setelah proses clustering"
      ],
      "metadata": {
        "colab": {
          "base_uri": "https://localhost:8080/"
        },
        "id": "QHSgnncN7DQ0",
        "outputId": "22f20aa2-fbb8-47fb-b731-db1fd591b813"
      },
      "execution_count": 118,
      "outputs": [
        {
          "output_type": "stream",
          "name": "stdout",
          "text": [
            "{0: 4, 1: 7, 2: 11}\n"
          ]
        }
      ]
    },
    {
      "cell_type": "code",
      "source": [
        "# plot scatter plot with cluster labels\n",
        "sns.lmplot(x='Age', y='Income($)', data=data, hue='cluster', palette='coolwarm', height=6, aspect=1, fit_reg=False)\n",
        "\n",
        "# plot cluster centers\n",
        "plt.scatter(centers[:, 0], centers[:, 1], c='purple', s=200, alpha=0.5)\n",
        "plt.xlabel('Age')\n",
        "plt.ylabel('Income ($)')\n",
        "plt.show()"
      ],
      "metadata": {
        "colab": {
          "base_uri": "https://localhost:8080/",
          "height": 441
        },
        "id": "axdjt_G67E1G",
        "outputId": "aa734a42-08a3-4282-dff7-e1a9293391b9"
      },
      "execution_count": 119,
      "outputs": [
        {
          "output_type": "display_data",
          "data": {
            "text/plain": [
              "<Figure size 474.375x432 with 1 Axes>"
            ],
            "image/png": "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\n"
          },
          "metadata": {
            "needs_background": "light"
          }
        }
      ]
    },
    {
      "cell_type": "code",
      "source": [
        "data"
      ],
      "metadata": {
        "colab": {
          "base_uri": "https://localhost:8080/",
          "height": 770
        },
        "id": "_qVb30Dr8kMr",
        "outputId": "9f71c226-81a7-4c2f-ee25-617d0e7102c1"
      },
      "execution_count": 120,
      "outputs": [
        {
          "output_type": "execute_result",
          "data": {
            "text/plain": [
              "          Age  Income($)  cluster\n",
              "Name                             \n",
              "Rob        27      70000        0\n",
              "Michael    29      90000        0\n",
              "Mohan      29      61000        2\n",
              "Ismail     28      60000        2\n",
              "Kory       42     150000        1\n",
              "Gautam     39     155000        1\n",
              "David      41     160000        1\n",
              "Andrea     38     162000        1\n",
              "Brad       36     156000        1\n",
              "Angelina   35     130000        1\n",
              "Donald     37     137000        1\n",
              "Tom        26      45000        2\n",
              "Arnold     27      48000        2\n",
              "Jared      28      51000        2\n",
              "Stark      29      49500        2\n",
              "Ranbir     32      53000        2\n",
              "Dipika     40      65000        2\n",
              "Priyanka   41      63000        2\n",
              "Nick       43      64000        2\n",
              "Alia       39      80000        0\n",
              "Sid        41      82000        0\n",
              "Abdul      39      58000        2"
            ],
            "text/html": [
              "\n",
              "  <div id=\"df-a8468683-8edb-4c18-98b6-8d45ee4d992f\">\n",
              "    <div class=\"colab-df-container\">\n",
              "      <div>\n",
              "<style scoped>\n",
              "    .dataframe tbody tr th:only-of-type {\n",
              "        vertical-align: middle;\n",
              "    }\n",
              "\n",
              "    .dataframe tbody tr th {\n",
              "        vertical-align: top;\n",
              "    }\n",
              "\n",
              "    .dataframe thead th {\n",
              "        text-align: right;\n",
              "    }\n",
              "</style>\n",
              "<table border=\"1\" class=\"dataframe\">\n",
              "  <thead>\n",
              "    <tr style=\"text-align: right;\">\n",
              "      <th></th>\n",
              "      <th>Age</th>\n",
              "      <th>Income($)</th>\n",
              "      <th>cluster</th>\n",
              "    </tr>\n",
              "    <tr>\n",
              "      <th>Name</th>\n",
              "      <th></th>\n",
              "      <th></th>\n",
              "      <th></th>\n",
              "    </tr>\n",
              "  </thead>\n",
              "  <tbody>\n",
              "    <tr>\n",
              "      <th>Rob</th>\n",
              "      <td>27</td>\n",
              "      <td>70000</td>\n",
              "      <td>0</td>\n",
              "    </tr>\n",
              "    <tr>\n",
              "      <th>Michael</th>\n",
              "      <td>29</td>\n",
              "      <td>90000</td>\n",
              "      <td>0</td>\n",
              "    </tr>\n",
              "    <tr>\n",
              "      <th>Mohan</th>\n",
              "      <td>29</td>\n",
              "      <td>61000</td>\n",
              "      <td>2</td>\n",
              "    </tr>\n",
              "    <tr>\n",
              "      <th>Ismail</th>\n",
              "      <td>28</td>\n",
              "      <td>60000</td>\n",
              "      <td>2</td>\n",
              "    </tr>\n",
              "    <tr>\n",
              "      <th>Kory</th>\n",
              "      <td>42</td>\n",
              "      <td>150000</td>\n",
              "      <td>1</td>\n",
              "    </tr>\n",
              "    <tr>\n",
              "      <th>Gautam</th>\n",
              "      <td>39</td>\n",
              "      <td>155000</td>\n",
              "      <td>1</td>\n",
              "    </tr>\n",
              "    <tr>\n",
              "      <th>David</th>\n",
              "      <td>41</td>\n",
              "      <td>160000</td>\n",
              "      <td>1</td>\n",
              "    </tr>\n",
              "    <tr>\n",
              "      <th>Andrea</th>\n",
              "      <td>38</td>\n",
              "      <td>162000</td>\n",
              "      <td>1</td>\n",
              "    </tr>\n",
              "    <tr>\n",
              "      <th>Brad</th>\n",
              "      <td>36</td>\n",
              "      <td>156000</td>\n",
              "      <td>1</td>\n",
              "    </tr>\n",
              "    <tr>\n",
              "      <th>Angelina</th>\n",
              "      <td>35</td>\n",
              "      <td>130000</td>\n",
              "      <td>1</td>\n",
              "    </tr>\n",
              "    <tr>\n",
              "      <th>Donald</th>\n",
              "      <td>37</td>\n",
              "      <td>137000</td>\n",
              "      <td>1</td>\n",
              "    </tr>\n",
              "    <tr>\n",
              "      <th>Tom</th>\n",
              "      <td>26</td>\n",
              "      <td>45000</td>\n",
              "      <td>2</td>\n",
              "    </tr>\n",
              "    <tr>\n",
              "      <th>Arnold</th>\n",
              "      <td>27</td>\n",
              "      <td>48000</td>\n",
              "      <td>2</td>\n",
              "    </tr>\n",
              "    <tr>\n",
              "      <th>Jared</th>\n",
              "      <td>28</td>\n",
              "      <td>51000</td>\n",
              "      <td>2</td>\n",
              "    </tr>\n",
              "    <tr>\n",
              "      <th>Stark</th>\n",
              "      <td>29</td>\n",
              "      <td>49500</td>\n",
              "      <td>2</td>\n",
              "    </tr>\n",
              "    <tr>\n",
              "      <th>Ranbir</th>\n",
              "      <td>32</td>\n",
              "      <td>53000</td>\n",
              "      <td>2</td>\n",
              "    </tr>\n",
              "    <tr>\n",
              "      <th>Dipika</th>\n",
              "      <td>40</td>\n",
              "      <td>65000</td>\n",
              "      <td>2</td>\n",
              "    </tr>\n",
              "    <tr>\n",
              "      <th>Priyanka</th>\n",
              "      <td>41</td>\n",
              "      <td>63000</td>\n",
              "      <td>2</td>\n",
              "    </tr>\n",
              "    <tr>\n",
              "      <th>Nick</th>\n",
              "      <td>43</td>\n",
              "      <td>64000</td>\n",
              "      <td>2</td>\n",
              "    </tr>\n",
              "    <tr>\n",
              "      <th>Alia</th>\n",
              "      <td>39</td>\n",
              "      <td>80000</td>\n",
              "      <td>0</td>\n",
              "    </tr>\n",
              "    <tr>\n",
              "      <th>Sid</th>\n",
              "      <td>41</td>\n",
              "      <td>82000</td>\n",
              "      <td>0</td>\n",
              "    </tr>\n",
              "    <tr>\n",
              "      <th>Abdul</th>\n",
              "      <td>39</td>\n",
              "      <td>58000</td>\n",
              "      <td>2</td>\n",
              "    </tr>\n",
              "  </tbody>\n",
              "</table>\n",
              "</div>\n",
              "      <button class=\"colab-df-convert\" onclick=\"convertToInteractive('df-a8468683-8edb-4c18-98b6-8d45ee4d992f')\"\n",
              "              title=\"Convert this dataframe to an interactive table.\"\n",
              "              style=\"display:none;\">\n",
              "        \n",
              "  <svg xmlns=\"http://www.w3.org/2000/svg\" height=\"24px\"viewBox=\"0 0 24 24\"\n",
              "       width=\"24px\">\n",
              "    <path d=\"M0 0h24v24H0V0z\" fill=\"none\"/>\n",
              "    <path d=\"M18.56 5.44l.94 2.06.94-2.06 2.06-.94-2.06-.94-.94-2.06-.94 2.06-2.06.94zm-11 1L8.5 8.5l.94-2.06 2.06-.94-2.06-.94L8.5 2.5l-.94 2.06-2.06.94zm10 10l.94 2.06.94-2.06 2.06-.94-2.06-.94-.94-2.06-.94 2.06-2.06.94z\"/><path d=\"M17.41 7.96l-1.37-1.37c-.4-.4-.92-.59-1.43-.59-.52 0-1.04.2-1.43.59L10.3 9.45l-7.72 7.72c-.78.78-.78 2.05 0 2.83L4 21.41c.39.39.9.59 1.41.59.51 0 1.02-.2 1.41-.59l7.78-7.78 2.81-2.81c.8-.78.8-2.07 0-2.86zM5.41 20L4 18.59l7.72-7.72 1.47 1.35L5.41 20z\"/>\n",
              "  </svg>\n",
              "      </button>\n",
              "      \n",
              "  <style>\n",
              "    .colab-df-container {\n",
              "      display:flex;\n",
              "      flex-wrap:wrap;\n",
              "      gap: 12px;\n",
              "    }\n",
              "\n",
              "    .colab-df-convert {\n",
              "      background-color: #E8F0FE;\n",
              "      border: none;\n",
              "      border-radius: 50%;\n",
              "      cursor: pointer;\n",
              "      display: none;\n",
              "      fill: #1967D2;\n",
              "      height: 32px;\n",
              "      padding: 0 0 0 0;\n",
              "      width: 32px;\n",
              "    }\n",
              "\n",
              "    .colab-df-convert:hover {\n",
              "      background-color: #E2EBFA;\n",
              "      box-shadow: 0px 1px 2px rgba(60, 64, 67, 0.3), 0px 1px 3px 1px rgba(60, 64, 67, 0.15);\n",
              "      fill: #174EA6;\n",
              "    }\n",
              "\n",
              "    [theme=dark] .colab-df-convert {\n",
              "      background-color: #3B4455;\n",
              "      fill: #D2E3FC;\n",
              "    }\n",
              "\n",
              "    [theme=dark] .colab-df-convert:hover {\n",
              "      background-color: #434B5C;\n",
              "      box-shadow: 0px 1px 3px 1px rgba(0, 0, 0, 0.15);\n",
              "      filter: drop-shadow(0px 1px 2px rgba(0, 0, 0, 0.3));\n",
              "      fill: #FFFFFF;\n",
              "    }\n",
              "  </style>\n",
              "\n",
              "      <script>\n",
              "        const buttonEl =\n",
              "          document.querySelector('#df-a8468683-8edb-4c18-98b6-8d45ee4d992f button.colab-df-convert');\n",
              "        buttonEl.style.display =\n",
              "          google.colab.kernel.accessAllowed ? 'block' : 'none';\n",
              "\n",
              "        async function convertToInteractive(key) {\n",
              "          const element = document.querySelector('#df-a8468683-8edb-4c18-98b6-8d45ee4d992f');\n",
              "          const dataTable =\n",
              "            await google.colab.kernel.invokeFunction('convertToInteractive',\n",
              "                                                     [key], {});\n",
              "          if (!dataTable) return;\n",
              "\n",
              "          const docLinkHtml = 'Like what you see? Visit the ' +\n",
              "            '<a target=\"_blank\" href=https://colab.research.google.com/notebooks/data_table.ipynb>data table notebook</a>'\n",
              "            + ' to learn more about interactive tables.';\n",
              "          element.innerHTML = '';\n",
              "          dataTable['output_type'] = 'display_data';\n",
              "          await google.colab.output.renderOutput(dataTable, element);\n",
              "          const docLink = document.createElement('div');\n",
              "          docLink.innerHTML = docLinkHtml;\n",
              "          element.appendChild(docLink);\n",
              "        }\n",
              "      </script>\n",
              "    </div>\n",
              "  </div>\n",
              "  "
            ]
          },
          "metadata": {},
          "execution_count": 120
        }
      ]
    },
    {
      "cell_type": "markdown",
      "source": [
        "Objek penelitian dalam clustering dapat beragam, tergantung dari tujuan penelitian yang ingin dicapai. Namun, umumnya objek penelitian dalam clustering adalah kumpulan data yang tidak memiliki label atau tidak terdapat informasi kelas. Contohnya, data konsumen yang tidak memiliki label atau kumpulan data produk yang ingin dikelompokkan berdasarkan fitur-fitur tertentu.\n",
        "\n",
        "Variabel dari objek penelitian dalam clustering tergantung pada jenis data yang digunakan. Pada umumnya, variabel dalam clustering adalah atribut-atribut dari objek penelitian yang ingin diklasterkan. Misalnya, pada data konsumen, variabel yang digunakan dapat berupa usia, jenis kelamin, pendapatan, dan sebagainya. Sedangkan pada data produk, variabel yang digunakan dapat berupa ukuran, berat, bahan, warna, dan sebagainya. Variabel tersebut nantinya akan digunakan untuk mengelompokkan objek penelitian menjadi beberapa cluster yang memiliki karakteristik yang serupa. \n",
        "\n",
        "=====\n",
        "\n",
        "Kami menggunakan metode k-means karena k-means adalah salah satu metode clustering yang paling populer dan mudah digunakan. K-means juga bekerja dengan baik untuk data yang memiliki bentuk cluster yang jelas, seperti dalam kasus Anda di mana data memiliki tiga kelompok yang terpisah dengan jelas berdasarkan umur dan pendapatan. Selain itu, k-means relatif cepat dan mudah diimplementasikan menggunakan banyak bahasa pemrograman dan library machine learning.\n",
        "Pada kasus ini, metode KMeans digunakan untuk mengelompokkan data konsumen berdasarkan umur dan pendapatan. Dalam kasus ini, terdapat beberapa faktor yang perlu dipertimbangkan dalam memilih metode clustering, seperti jumlah data, kompleksitas data, dan tujuan clustering. Dalam hal ini, metode KMeans dapat diterapkan karena jumlah data relatif kecil dan tidak terdapat kompleksitas data yang tinggi. Selain itu, tujuan clustering pada kasus ini adalah untuk mengelompokkan data konsumen berdasarkan umur dan pendapatan mereka."
      ],
      "metadata": {
        "id": "_4OKc8edIykG"
      }
    },
    {
      "cell_type": "markdown",
      "source": [
        "Referensi :\n",
        "1. https://medium.com/towards-data-science/k-means-clustering-from-a-to-z-f6242a314e9a\n",
        "2. http://cloud.politala.ac.id/politala/1.%20Jurusan/Teknik%20Informatika/19.%20e-journal/Jurnal%20Nasional%20TI/Jurnal%20Sistem%20Informasi%20Bisnis%20(JSINBIS)/Volume%206/No%202/12102-34855-1-PB_Algoritma%20K-Means%20Clustering%20Untuk%20Pengelompokan%20Ayat%20Al%20Quran%20Pada%20Terjemahan%20Bahasa%20Indonesia.pdf\n",
        "\n",
        "\n",
        "---\n",
        "\n"
      ],
      "metadata": {
        "id": "gyfbF-LrH1qM"
      }
    }
  ]
}
